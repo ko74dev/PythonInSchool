{
  "nbformat": 4,
  "nbformat_minor": 0,
  "metadata": {
    "colab": {
      "name": "03-Оператор ввода.ipynb",
      "provenance": [],
      "authorship_tag": "ABX9TyOw0VKTHVDx6QhoucfNIvb4",
      "include_colab_link": true
    },
    "kernelspec": {
      "name": "python3",
      "display_name": "Python 3"
    }
  },
  "cells": [
    {
      "cell_type": "markdown",
      "metadata": {
        "id": "view-in-github",
        "colab_type": "text"
      },
      "source": [
        "<a href=\"https://colab.research.google.com/github/ko74dev/PythonInSchool/blob/master/03_%D0%9E%D0%BF%D0%B5%D1%80%D0%B0%D1%82%D0%BE%D1%80_%D0%B2%D0%B2%D0%BE%D0%B4%D0%B0.ipynb\" target=\"_parent\"><img src=\"https://colab.research.google.com/assets/colab-badge.svg\" alt=\"Open In Colab\"/></a>"
      ]
    },
    {
      "cell_type": "markdown",
      "metadata": {
        "id": "3U5-YJJ9-BFa",
        "colab_type": "text"
      },
      "source": [
        "Для выполнения свойства универсальности алгоритмов, программа должна содержать возможность ввода исходных данных.\n",
        "## Ввод значения с клавиатуры\n",
        "1. Программа ждет, пока пользователь введет значение и нажмет Enter.\n",
        "2. Введенное значение записывается в переменную a (связывается с именем a)"
      ]
    },
    {
      "cell_type": "code",
      "metadata": {
        "id": "pbuYgFlI97Cs",
        "colab_type": "code",
        "colab": {
          "base_uri": "https://localhost:8080/",
          "height": 52
        },
        "outputId": "8afb823e-fa9d-477a-c813-921fe545e1a7"
      },
      "source": [
        "a = input()  # Ввести строку с клавиатуры и связать с переменной a\n",
        "print( a+a ) # Напечатать удвоенное значение a"
      ],
      "execution_count": 2,
      "outputs": [
        {
          "output_type": "stream",
          "text": [
            "5\n",
            "55\n"
          ],
          "name": "stdout"
        }
      ]
    },
    {
      "cell_type": "markdown",
      "metadata": {
        "id": "pkmnaCRr_1xf",
        "colab_type": "text"
      },
      "source": [
        "Результат - строка символов!\n",
        "Необходимо строку преобразовать в целое число\n",
        "### Найти значение суммы 2-х целых чисел `a` и `b`"
      ]
    },
    {
      "cell_type": "code",
      "metadata": {
        "id": "e-Z2tA8O_htQ",
        "colab_type": "code",
        "colab": {
          "base_uri": "https://localhost:8080/",
          "height": 69
        },
        "outputId": "b24c20cf-f1fa-4657-a38d-cf6be4136a45"
      },
      "source": [
        "a = int( input() ) # Ввод значения с клавиатуры слагаемого a\n",
        "b = int( input() ) # Ввод значения с клавиатуры слагаемого b\n",
        "s = a + b    # Найти сумму \n",
        "print( s )   # Напечатать сумму"
      ],
      "execution_count": 4,
      "outputs": [
        {
          "output_type": "stream",
          "text": [
            "5\n",
            "10\n",
            "15\n"
          ],
          "name": "stdout"
        }
      ]
    },
    {
      "cell_type": "markdown",
      "metadata": {
        "id": "39IAFi0oBU_Q",
        "colab_type": "text"
      },
      "source": [
        "### Ввод несколько числовых значений в одной строке"
      ]
    },
    {
      "cell_type": "code",
      "metadata": {
        "id": "D8pDMrAiA-7g",
        "colab_type": "code",
        "colab": {
          "base_uri": "https://localhost:8080/",
          "height": 52
        },
        "outputId": "d1093081-8c5b-48ca-e487-f70649b0841d"
      },
      "source": [
        "a, b = map ( int, input().split() )\n",
        "# input() - ввести строку с клавиатуры\n",
        "# input().split() - разделить строку на части по пробелам\n",
        "# map - применить функцию (в первом аргументе) к каждой части\n",
        "# int - фунцкция преобразования в целое\n",
        "s = a + b    # Найти сумму \n",
        "print( s )   # Напечатать сумму"
      ],
      "execution_count": 6,
      "outputs": [
        {
          "output_type": "stream",
          "text": [
            "5 10\n",
            "15\n"
          ],
          "name": "stdout"
        }
      ]
    },
    {
      "cell_type": "markdown",
      "metadata": {
        "id": "MFzA2HMzDTGT",
        "colab_type": "text"
      },
      "source": [
        "## Нахождение суммы всех чисел в строке"
      ]
    },
    {
      "cell_type": "code",
      "metadata": {
        "id": "kodr64LICwfv",
        "colab_type": "code",
        "colab": {
          "base_uri": "https://localhost:8080/",
          "height": 52
        },
        "outputId": "4fe6b557-11c4-4c56-8e51-6a0abc959ee2"
      },
      "source": [
        "print( sum( map( int, input().split())))"
      ],
      "execution_count": 7,
      "outputs": [
        {
          "output_type": "stream",
          "text": [
            "2 1 5 3 4\n",
            "15\n"
          ],
          "name": "stdout"
        }
      ]
    },
    {
      "cell_type": "markdown",
      "metadata": {
        "id": "9-5TGbqTDlPz",
        "colab_type": "text"
      },
      "source": [
        "### Ввод с подсказкой"
      ]
    },
    {
      "cell_type": "code",
      "metadata": {
        "id": "vbXxoC5vDGRk",
        "colab_type": "code",
        "colab": {
          "base_uri": "https://localhost:8080/",
          "height": 69
        },
        "outputId": "5420aef1-97a9-4e35-b2fe-587a17abfc92"
      },
      "source": [
        "a = int( input('Введите значение слагаемого a: ') )\n",
        "b = int( input('Введите значение слагаемого b: ') )\n",
        "s = a + b    # Найти сумму \n",
        "print( 'Сумма a и b =',s )"
      ],
      "execution_count": 8,
      "outputs": [
        {
          "output_type": "stream",
          "text": [
            "Введите значение слагаемого a: 10\n",
            "Введите значение слагаемого b: 20\n",
            "Сумма a и b = 30\n"
          ],
          "name": "stdout"
        }
      ]
    },
    {
      "cell_type": "code",
      "metadata": {
        "id": "uIqR6TRzEODK",
        "colab_type": "code",
        "colab": {}
      },
      "source": [
        ""
      ],
      "execution_count": null,
      "outputs": []
    }
  ]
}