{
 "cells": [
  {
   "cell_type": "markdown",
   "metadata": {},
   "source": [
    "# Простейшие программы"
   ]
  },
  {
   "cell_type": "code",
   "execution_count": null,
   "metadata": {},
   "outputs": [],
   "source": [
    "# это комментарий (после знака #) - не обрабатываются во время выполнения\n",
    "'''Это тоже комментарий (между тройными кавычками)'''"
   ]
  },
  {
   "cell_type": "markdown",
   "metadata": {},
   "source": [
    "---\n",
    "## Функция вывода\n",
    "`print( аргумент[ты - через запятую]_вывода [,sep='символ-разделитель', end='символ-окончание'] )`\n",
    "- символ-разделитель: по умолчанию - пробел\n",
    "- символ-окончание: по умолчанию - символ новой строки\n",
    "---\n",
    "### Полезные символы:\n",
    "\n",
    "`'\\n'` - новая строка; `'\\t'` - табуляция; `''` - пустой; `' '` - пробел\n",
    "\n",
    "---\n",
    "### Задание. \n",
    "Вывести на экран текст «лесенкой»\n",
    "```\n",
    "Мама\n",
    "    мыла\n",
    "        раму\n",
    "```"
   ]
  },
  {
   "cell_type": "code",
   "execution_count": null,
   "metadata": {},
   "outputs": [],
   "source": [
    "# Программа 1\n",
    "print('Мама')\n",
    "print('\\tмыла')\n",
    "print('\\t\\tраму')"
   ]
  },
  {
   "cell_type": "code",
   "execution_count": null,
   "metadata": {},
   "outputs": [],
   "source": [
    "# Программа 2\n",
    "print('Мама', '\\tмыла', '\\t\\tраму', sep='\\n')"
   ]
  },
  {
   "cell_type": "code",
   "execution_count": null,
   "metadata": {},
   "outputs": [],
   "source": [
    "# Программа 3\n",
    "print('Мама\\n\\tмыла\\n\\t\\tраму')"
   ]
  },
  {
   "cell_type": "markdown",
   "metadata": {},
   "source": [
    "## Переменные (именнованные объекты)\n",
    "---\n",
    "<dl><dt>Переменная</dt>\n",
    "<dd>это величина, имеющая имя, тип и значение. Значение переменной можно изменять во время работы программы.</dd>\n",
    "\n",
    "---    \n",
    "### Имена переменных\n",
    "---\n",
    "<dt>МОЖНО использовать</dt>\n",
    "<dd>латинские буквы (A-Z, a-z)</dd>\n",
    "    - заглавные и строчные буквы различаются\n",
    "<dd>русские буквы (не рекомендуется!)</dd>\n",
    "<dd>цифры</dd>\n",
    "    - но не может начинаться с цифры\n",
    "<dd>знак подчеркивания _</dd>\n",
    "\n",
    "---\n",
    "<dt>НЕЛЬЗЯ использовать</dt>\n",
    "<dd>скопки</dd>\n",
    "<dd>знаки</dd>\n",
    "</dl>\n",
    "\n",
    "---\n",
    "### Типы  переменных (к каким классам принадлежат объекты):"
   ]
  },
  {
   "cell_type": "code",
   "execution_count": null,
   "metadata": {},
   "outputs": [],
   "source": [
    "a = 5\n",
    "print (a, type(a) )"
   ]
  },
  {
   "cell_type": "code",
   "execution_count": null,
   "metadata": {},
   "outputs": [],
   "source": [
    "a = .4e5\n",
    "print (a, type(a) )"
   ]
  },
  {
   "cell_type": "code",
   "execution_count": null,
   "metadata": {},
   "outputs": [],
   "source": [
    "a = 'Привет!'\n",
    "print (a, type(a) )"
   ]
  },
  {
   "cell_type": "code",
   "execution_count": null,
   "metadata": {},
   "outputs": [],
   "source": [
    "a = True\n",
    "print (a, type(a) )"
   ]
  },
  {
   "cell_type": "markdown",
   "metadata": {},
   "source": [
    "### Зачем нужно знать тип?\n",
    "Он определяет:\n",
    "- область допустимых значений\n",
    "- допустимые операции\n",
    "- объём памяти\n",
    "- формат хранения данных"
   ]
  },
  {
   "cell_type": "markdown",
   "metadata": {},
   "source": [
    "### Как создать объект (записать значение в переменную)?"
   ]
  },
  {
   "cell_type": "code",
   "execution_count": null,
   "metadata": {},
   "outputs": [],
   "source": [
    "5000000"
   ]
  },
  {
   "cell_type": "code",
   "execution_count": null,
   "metadata": {},
   "outputs": [],
   "source": [
    "a = 5000000 # именование (создание) объекта"
   ]
  },
  {
   "cell_type": "markdown",
   "metadata": {},
   "source": [
    "<dt>Оператор<dd>это команда языка программирования (инструкция)."
   ]
  },
  {
   "cell_type": "code",
   "execution_count": null,
   "metadata": {},
   "outputs": [],
   "source": [
    "b = 7000000"
   ]
  },
  {
   "cell_type": "code",
   "execution_count": null,
   "metadata": {},
   "outputs": [],
   "source": [
    "print(a,b)"
   ]
  },
  {
   "cell_type": "code",
   "execution_count": null,
   "metadata": {},
   "outputs": [],
   "source": [
    "b = 1000000 # предыдущие значение забывается\n",
    "print(b)"
   ]
  },
  {
   "cell_type": "markdown",
   "metadata": {},
   "source": [
    "### Изменение значений переменной"
   ]
  },
  {
   "cell_type": "code",
   "execution_count": null,
   "metadata": {},
   "outputs": [],
   "source": [
    "a = 5\n",
    "b = a + 2\n",
    "a = (a + 2)*(b - 3)\n",
    "b = b + 1\n",
    "print(a,b)"
   ]
  },
  {
   "cell_type": "markdown",
   "metadata": {},
   "source": [
    "### Форматный вывод"
   ]
  },
  {
   "cell_type": "code",
   "execution_count": null,
   "metadata": {},
   "outputs": [],
   "source": [
    "x = 25\n",
    "print( f'x={5*5:5d}; x^2={x*x:5d};')"
   ]
  },
  {
   "cell_type": "markdown",
   "metadata": {},
   "source": [
    "- {} - внедряют в строку вычисляемые значения\n",
    "- после `:` - формат значений\n",
    "    - `5` - количество знаков\n",
    "    - `d` - целое десятичное число (`X` - шестнадцатиричное, `f` - с плавающей запятой и др. )"
   ]
  },
  {
   "cell_type": "code",
   "execution_count": null,
   "metadata": {},
   "outputs": [],
   "source": [
    "print( f'x={6*5:5X}; x^2={x*x:5f};' )"
   ]
  },
  {
   "cell_type": "code",
   "execution_count": null,
   "metadata": {},
   "outputs": [],
   "source": []
  }
 ],
 "metadata": {
  "kernelspec": {
   "display_name": "Python 3",
   "language": "python",
   "name": "python3"
  },
  "language_info": {
   "codemirror_mode": {
    "name": "ipython",
    "version": 3
   },
   "file_extension": ".py",
   "mimetype": "text/x-python",
   "name": "python",
   "nbconvert_exporter": "python",
   "pygments_lexer": "ipython3",
   "version": "3.7.4"
  }
 },
 "nbformat": 4,
 "nbformat_minor": 2
}
