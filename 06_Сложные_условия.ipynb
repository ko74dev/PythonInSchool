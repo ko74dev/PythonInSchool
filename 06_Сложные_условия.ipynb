{
  "nbformat": 4,
  "nbformat_minor": 0,
  "metadata": {
    "colab": {
      "name": "06_Сложные условия.ipynb",
      "provenance": [],
      "collapsed_sections": [],
      "authorship_tag": "ABX9TyMGSGRdlNz1YNFSfmtCwi7K",
      "include_colab_link": true
    },
    "kernelspec": {
      "name": "python3",
      "display_name": "Python 3"
    }
  },
  "cells": [
    {
      "cell_type": "markdown",
      "metadata": {
        "id": "view-in-github",
        "colab_type": "text"
      },
      "source": [
        "<a href=\"https://colab.research.google.com/github/ko74dev/PythonInSchool/blob/master/06_%D0%A1%D0%BB%D0%BE%D0%B6%D0%BD%D1%8B%D0%B5_%D1%83%D1%81%D0%BB%D0%BE%D0%B2%D0%B8%D1%8F.ipynb\" target=\"_parent\"><img src=\"https://colab.research.google.com/assets/colab-badge.svg\" alt=\"Open In Colab\"/></a>"
      ]
    },
    {
      "cell_type": "markdown",
      "metadata": {
        "id": "YQhZE5aqEKMT"
      },
      "source": [
        "## Сложные условия\n",
        "Будем называть условия \"сложными\", если они содержат более одной операции сравнения. Обычно, с использованием логических операций\n",
        "\n",
        "**Пример**: набор сотрудников в возрасте 25-40 лет (включительно). "
      ]
    },
    {
      "cell_type": "code",
      "metadata": {
        "id": "MXL0Nv5bD-pp",
        "outputId": "ec8547a6-171a-4abf-ae3a-e936ff22cf99",
        "colab": {
          "base_uri": "https://localhost:8080/",
          "height": 52
        }
      },
      "source": [
        "v = int(input())\n",
        "if v >= 25 and v <= 40:\n",
        "  print(\"подходит\")\n",
        "else:\n",
        "  print(\"не подходит\")"
      ],
      "execution_count": 1,
      "outputs": [
        {
          "output_type": "stream",
          "text": [
            "35\n",
            "подходит\n"
          ],
          "name": "stdout"
        }
      ]
    },
    {
      "cell_type": "markdown",
      "metadata": {
        "id": "dcATB_dTFZ_W"
      },
      "source": [
        "### Приоритеты:\n",
        "1. сравнения (<, >, <=, >=, ==, !=)\n",
        "2. `not` («НЕ»)\n",
        "2. `and` («И»)\n",
        "3. `or` («ИЛИ»)\n",
        "\n",
        "**Python-way:**"
      ]
    },
    {
      "cell_type": "code",
      "metadata": {
        "id": "N5W47dINFQeG",
        "outputId": "835cd05a-896f-4782-c60c-d3702c94c969",
        "colab": {
          "base_uri": "https://localhost:8080/",
          "height": 52
        }
      },
      "source": [
        "v = int(input())\n",
        "if 25 <= v <= 40:\n",
        "  print(\"подходит\")\n",
        "else:\n",
        "  print(\"не подходит\")"
      ],
      "execution_count": 2,
      "outputs": [
        {
          "output_type": "stream",
          "text": [
            "24\n",
            "не подходит\n"
          ],
          "name": "stdout"
        }
      ]
    },
    {
      "cell_type": "markdown",
      "metadata": {
        "id": "IxCJuvsJG6QN"
      },
      "source": [
        "Кроме базовых логических операций, в python еще доступны:\n",
        "- `in` - логическая операция \"Входит в состав?\"\n",
        "- `any()` - логическая функция: \"Кто-нибудь истина (ненулевой/непустой)?\"\n",
        "- `all()` - логическая функция: \"Все истинны (ненулевые/непустые)?\"\n",
        "\n",
        "Напишите программу, которая получает номер месяца и выводит соответствующее ему время года или сообщение об ошибке."
      ]
    },
    {
      "cell_type": "code",
      "metadata": {
        "id": "zUZ3K434GHOa",
        "outputId": "6972df0f-0af7-4f44-c67e-22ba377cf7bf",
        "colab": {
          "base_uri": "https://localhost:8080/",
          "height": 52
        }
      },
      "source": [
        "n=int(input())\n",
        "if n in {12,1,2}: print('Зима')\n",
        "elif n in {3,4,5}: print('Весна')\n",
        "elif n in {6,7,8}: print('Лето')\n",
        "elif n in {9,10,11}: print('Осень')\n",
        "else: print('Ошибка')"
      ],
      "execution_count": 4,
      "outputs": [
        {
          "output_type": "stream",
          "text": [
            "7\n",
            "Лето\n"
          ],
          "name": "stdout"
        }
      ]
    },
    {
      "cell_type": "code",
      "metadata": {
        "id": "oTZtAHUaGx8Y",
        "outputId": "9d2388ba-65e5-4dd2-a158-9b618fce4e88",
        "colab": {
          "base_uri": "https://localhost:8080/",
          "height": 35
        }
      },
      "source": [
        "x = [1,0,'','a']\n",
        "any(x[:2]), any(x[1:2]), all(x), all(x[:1])"
      ],
      "execution_count": 10,
      "outputs": [
        {
          "output_type": "execute_result",
          "data": {
            "text/plain": [
              "(True, False, False, True)"
            ]
          },
          "metadata": {
            "tags": []
          },
          "execution_count": 10
        }
      ]
    },
    {
      "cell_type": "markdown",
      "metadata": {
        "id": "7woU4MzXLD9n"
      },
      "source": [
        "<img width=320  align='right' src='https://drive.google.com/uc?id=1nfigm43aNKIH6EryYmHoTAWnO8RmmNWH'>\n",
        "\n",
        "**Python-way:**\\\n",
        "использование логических операций, как ветвлений:\\\n",
        "`and`->`то` и `or`->`иначе`\n",
        "\n",
        "Напишите условие, которое определяет заштрихованную область."
      ]
    },
    {
      "cell_type": "code",
      "metadata": {
        "id": "uVaPQ3KrKKVU",
        "outputId": "91f73ce3-4c30-4055-db21-bb6bfbd97163",
        "colab": {
          "base_uri": "https://localhost:8080/",
          "height": 35
        }
      },
      "source": [
        "x,y = 1,2\n",
        "(y >= 2-x  and y<= x*x or y>=x*x and y<=2-x and x<=0 and y<=4-x*x or \\\n",
        "y<=x*x and y<=2-x and y>=0 or y>=4-x*x and y>=x*x and x>=0) and 'В заштрихованной!' or 'Мимо :('"
      ],
      "execution_count": 21,
      "outputs": [
        {
          "output_type": "execute_result",
          "data": {
            "application/vnd.google.colaboratory.intrinsic+json": {
              "type": "string"
            },
            "text/plain": [
              "'Мимо :('"
            ]
          },
          "metadata": {
            "tags": []
          },
          "execution_count": 21
        }
      ]
    },
    {
      "cell_type": "code",
      "metadata": {
        "id": "1k_rSkLKQYrk",
        "outputId": "198ea13b-aa8d-425d-b290-511ce0d7cb8c",
        "colab": {
          "base_uri": "https://localhost:8080/",
          "height": 35
        }
      },
      "source": [
        "x,y = -1,2\n",
        "(y >= 2-x  and y<= x*x or y>=x*x and y<=2-x and x<=0 and y<=4-x*x or \\\n",
        "y<=x*x and y<=2-x and y>=0 or y>=4-x*x and y>=x*x and x>=0) and 'В заштрихованной!' or 'Мимо :('"
      ],
      "execution_count": 22,
      "outputs": [
        {
          "output_type": "execute_result",
          "data": {
            "application/vnd.google.colaboratory.intrinsic+json": {
              "type": "string"
            },
            "text/plain": [
              "'В заштрихованной!'"
            ]
          },
          "metadata": {
            "tags": []
          },
          "execution_count": 22
        }
      ]
    },
    {
      "cell_type": "code",
      "metadata": {
        "id": "4_NpDMDzRE7N"
      },
      "source": [
        ""
      ],
      "execution_count": null,
      "outputs": []
    }
  ]
}