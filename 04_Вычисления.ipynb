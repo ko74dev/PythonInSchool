{
  "nbformat": 4,
  "nbformat_minor": 0,
  "metadata": {
    "colab": {
      "name": "04_Вычисления.ipynb",
      "provenance": [],
      "authorship_tag": "ABX9TyNGJtD98xvvZdTE/sX7d7tb",
      "include_colab_link": true
    },
    "kernelspec": {
      "name": "python3",
      "display_name": "Python 3"
    }
  },
  "cells": [
    {
      "cell_type": "markdown",
      "metadata": {
        "id": "view-in-github",
        "colab_type": "text"
      },
      "source": [
        "<a href=\"https://colab.research.google.com/github/ko74dev/PythonInSchool/blob/master/04_%D0%92%D1%8B%D1%87%D0%B8%D1%81%D0%BB%D0%B5%D0%BD%D0%B8%D1%8F.ipynb\" target=\"_parent\"><img src=\"https://colab.research.google.com/assets/colab-badge.svg\" alt=\"Open In Colab\"/></a>"
      ]
    },
    {
      "cell_type": "markdown",
      "metadata": {
        "id": "8NZZS_O0x3wY"
      },
      "source": [
        "## Целочисленное деление и остаток\n",
        "  - // -  целочисленное деление\n",
        "  - % – остаток от деления"
      ]
    },
    {
      "cell_type": "code",
      "metadata": {
        "id": "phUKcOzPxVOi",
        "outputId": "51257534-6ee1-4886-85e3-ae837e26d5da",
        "colab": {
          "base_uri": "https://localhost:8080/",
          "height": 35
        }
      },
      "source": [
        "a = 85\n",
        "b = a // 10\n",
        "c = a % 10\n",
        "a, b, c"
      ],
      "execution_count": 3,
      "outputs": [
        {
          "output_type": "execute_result",
          "data": {
            "text/plain": [
              "(85, 8, 5)"
            ]
          },
          "metadata": {
            "tags": []
          },
          "execution_count": 3
        }
      ]
    },
    {
      "cell_type": "code",
      "metadata": {
        "id": "kGmGGt-RymR3"
      },
      "source": [
        "d = c % a\n",
        "e = b % c\n",
        "d, e\n",
        "# ?"
      ],
      "execution_count": null,
      "outputs": []
    },
    {
      "cell_type": "markdown",
      "metadata": {
        "id": "BjGgyGRNzb9T"
      },
      "source": [
        "Для отрицательных чисел:\\\n",
        "Как в математике!"
      ]
    },
    {
      "cell_type": "code",
      "metadata": {
        "id": "ThZ3dQKYzFMZ",
        "outputId": "00099d7c-48e1-49c4-b91f-ee0d22ac6d15",
        "colab": {
          "base_uri": "https://localhost:8080/",
          "height": 35
        }
      },
      "source": [
        "a = -7        \n",
        "b = a // 3\n",
        "c = a % 3\n",
        "a, b, c, 7%3"
      ],
      "execution_count": 7,
      "outputs": [
        {
          "output_type": "execute_result",
          "data": {
            "text/plain": [
              "(-7, -3, 2, 1)"
            ]
          },
          "metadata": {
            "tags": []
          },
          "execution_count": 7
        }
      ]
    },
    {
      "cell_type": "markdown",
      "metadata": {
        "id": "YsRAzr3g2xW5"
      },
      "source": [
        "## Вещественные числа\n",
        "Целая и дробная части числа разделяются точкой!\\\n",
        "Форматы вывода:"
      ]
    },
    {
      "cell_type": "code",
      "metadata": {
        "id": "PJ1Tr9vWzuy1",
        "outputId": "74255604-dba4-4861-8462-7a03123ac2d4",
        "colab": {
          "base_uri": "https://localhost:8080/",
          "height": 121
        }
      },
      "source": [
        "x = 123.456\n",
        "print( x )\n",
        "print( f'{x:10}' )    # всего знаков = 10\n",
        "print( f'{x:10.2f}' ) # всего знаков = 10, в дробной части = 2\n",
        "print( f'{x:10.2g}' ) # экспоненциальный формат: всего знаков = 10, значащих цифр = 2\n",
        "print( f'{x:10.2e}' ) # экспоненциальный формат: всего знаков = 10, в дробной части = 2\n",
        "print( f'{x:e}' )     # экспоненциальный формат"
      ],
      "execution_count": 14,
      "outputs": [
        {
          "output_type": "stream",
          "text": [
            "123.456\n",
            "   123.456\n",
            "    123.46\n",
            "   1.2e+02\n",
            "  1.23e+02\n",
            "1.234560e+02\n"
          ],
          "name": "stdout"
        }
      ]
    },
    {
      "cell_type": "markdown",
      "metadata": {
        "id": "Nbuz7Jh85a3U"
      },
      "source": [
        "## Стандартные функции\n",
        "`abs(x)` — модуль числа\\\n",
        "`int(x)` — преобразование к целому числу\\\n",
        "`round(x)` — округление\\\n",
        "`bin(x)` — в двоичную систему \\\n",
        "`oct(x)` — в восьмеричную систему\\\n",
        "`hex(x)` — в шестнадцатеричную систему"
      ]
    },
    {
      "cell_type": "code",
      "metadata": {
        "id": "qA5ykzhe3YyX",
        "outputId": "ac43f7a5-1a4d-48a0-8ca3-51874d96c393",
        "colab": {
          "base_uri": "https://localhost:8080/",
          "height": 35
        }
      },
      "source": [
        "abs( -1.4 ), int( -1.4 ), round( -1.4 ), round( -1.6 )"
      ],
      "execution_count": 17,
      "outputs": [
        {
          "output_type": "execute_result",
          "data": {
            "text/plain": [
              "(1.4, -1, -1, -2)"
            ]
          },
          "metadata": {
            "tags": []
          },
          "execution_count": 17
        }
      ]
    },
    {
      "cell_type": "code",
      "metadata": {
        "id": "iKXiVWv_6I0r",
        "outputId": "34fee91e-899e-41ef-e61b-83cc338d6513",
        "colab": {
          "base_uri": "https://localhost:8080/",
          "height": 35
        }
      },
      "source": [
        "int('A1',16), bin( 29 ), oct( 29 ), hex( 29 ), f'{29:X}'"
      ],
      "execution_count": 20,
      "outputs": [
        {
          "output_type": "execute_result",
          "data": {
            "text/plain": [
              "(161, '0b11101', '0o35', '0x1d', '1D')"
            ]
          },
          "metadata": {
            "tags": []
          },
          "execution_count": 20
        }
      ]
    },
    {
      "cell_type": "markdown",
      "metadata": {
        "id": "WLJJofQu9wob"
      },
      "source": [
        "## Математические функции\n",
        "`import math` - импорт встроенного модуля (библиотеки) `math`\\\n",
        "`math.pi`      — число «пи»\\\n",
        "`math.sqrt(x)` — квадратный корень\\\n",
        "`math.sin(x)`  — синус угла, заданного в радианах\\\n",
        "`math.cos(x)`  — косинус угла, заданного в радианах\\\n",
        "`math.exp(x)`  — экспонента $е^х$\\\n",
        "`math.ln(x)`   — натуральный логарифм\\\n",
        "`math.floor(x)` — округление «вниз»\\\n",
        "`math.ceil(x)`  — округление «вверх»"
      ]
    },
    {
      "cell_type": "code",
      "metadata": {
        "id": "1h55XWWW7YMx"
      },
      "source": [
        "import math as M\n",
        "M.floor(1.6), M.ceil(1.6), M.floor(-1.6), M.ceil(-1.6)\n",
        "# ?"
      ],
      "execution_count": null,
      "outputs": []
    },
    {
      "cell_type": "markdown",
      "metadata": {
        "id": "KDA6cL6l_Tri"
      },
      "source": [
        "## Случайные числа\n",
        "Случайно…\n",
        "- встретить друга на улице\n",
        "- разбить тарелку\n",
        "- найти 1000 рублей\n",
        "- выиграть в лотерею\n",
        "\n",
        "### Как получить случайность?\n",
        "Псевдослучайные числа – обладают свойствами случайных чисел, но каждое следующее число вычисляется по заданной формуле.\n",
        "- Метод середины квадрата (Дж. фон Нейман)\n",
        "- Линейный конгруэнтный генератор: `X = (a*X+b) %  c` # интервал от 0 до c-1\n",
        "\n",
        "`import random`\n",
        "- Целые числа на отрезке [a,b]: `random.randint(a,b)`\n",
        "- Генератор на [0,1): `random.random()`\n",
        "- Генератор на [a, b] (вещественные числа): `random.uniform(a, b)`"
      ]
    },
    {
      "cell_type": "code",
      "metadata": {
        "id": "G7PBTK0DBPId",
        "outputId": "bc569e42-cbe1-4758-cac9-3c3ac54ec383",
        "colab": {
          "base_uri": "https://localhost:8080/",
          "height": 69
        }
      },
      "source": [
        "import random as rnd\n",
        "print( rnd.randint(10,60), rnd.randint(10,60))\n",
        "print( rnd.random(), rnd.random())\n",
        "print( rnd.uniform(1.2, 3.5), rnd.uniform(1.2, 3.5))"
      ],
      "execution_count": 21,
      "outputs": [
        {
          "output_type": "stream",
          "text": [
            "31 50\n",
            "0.5088470251769825 0.9490801751866837\n",
            "3.4188792816222184 2.957859198270817\n"
          ],
          "name": "stdout"
        }
      ]
    },
    {
      "cell_type": "code",
      "metadata": {
        "id": "UwKWaa96B84k"
      },
      "source": [
        ""
      ],
      "execution_count": null,
      "outputs": []
    }
  ]
}